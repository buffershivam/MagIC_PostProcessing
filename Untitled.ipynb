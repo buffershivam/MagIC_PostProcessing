{
 "cells": [
  {
   "cell_type": "code",
   "execution_count": 1,
   "id": "22497c54-b2ef-41f4-95ea-44a79131fd69",
   "metadata": {},
   "outputs": [],
   "source": [
    "import numpy as np\n",
    "import matplotlib.pyplot as plt\n",
    "from scipy.ndimage import map_coordinates\n",
    "from scipy.interpolate import interp1d\n",
    "import sys\n",
    "import matplotlib.colors as mcolors\n",
    "from mpl_toolkits.mplot3d import Axes3D\n",
    "from matplotlib.colors import Normalize\n",
    "from matplotlib import cm\n",
    "import plotly.graph_objects as go\n",
    "from scipy.special import lpmv"
   ]
  },
  {
   "cell_type": "code",
   "execution_count": 2,
   "id": "d641fb5a-2721-4a38-966d-26461557e393",
   "metadata": {},
   "outputs": [],
   "source": [
    "def read_stream(filename):\n",
    "    f=open(filename,'rb')\n",
    "    version=np.fromfile(f,np.int32,count=1)[0]#read the version\n",
    "    time,Ra,Pr,Raxi,Sc,Prmag,Ek,radratio,sigma_ratio=np.fromfile(f,np.float32,count=9)#read the parameters\n",
    "    n_r_max,n_r_ic_max,l_max,minc,lm_max=np.fromfile(f,np.int32,count=5)\n",
    "    m_min,m_max=np.fromfile(f,\"{}2i4\".format('<'),count=1)[0]\n",
    "    omega_ic,omega_max=np.fromfile(f,np.float32,count=2)#rotation\n",
    "    radius=np.fromfile(f,\"{}{}f4\".format('<',n_r_max),count=1)[0]#radius\n",
    "    radius=radius[::-1]\n",
    "    rho=np.fromfile(f,\"{}{}f4\".format('<',n_r_max),count=1)[0]#background density\n",
    "    pol=np.fromfile(f,\"{}({},{})c8\".format('<',n_r_max,lm_max),count=1)[0]#poloidal potential\n",
    "    pol=pol.T\n",
    "    tor=np.fromfile(f,\"{}({},{})c8\".format('<',n_r_max,lm_max),count=1)[0]#toroidal potential\n",
    "    tor=tor.T\n",
    "    params=[time,Ra,Pr,Raxi,Sc,Prmag,Ek,radratio,sigma_ratio]\n",
    "    rad_sph_params=[n_r_max,n_r_ic_max,l_max,minc,lm_max,m_max,m_min]\n",
    "    omega=[omega_ic,omega_max]\n",
    "    rad=[radius]\n",
    "    rho_list=[rho]\n",
    "    potentials=[pol,tor]\n",
    "    return version,params,rad_sph_params,omega,rad,rho_list,potentials"
   ]
  },
  {
   "cell_type": "code",
   "execution_count": 3,
   "id": "89c4a94f-42c9-474e-b7d4-2623bcfd5c31",
   "metadata": {},
   "outputs": [],
   "source": [
    "def get_map(lm_max,lmax,mmin,mmax,minc):\n",
    "  idx=np.zeros((lmax+1,mmax+1),np.int32)\n",
    "  lm2l=np.zeros(lm_max,np.int16)\n",
    "  lm2m=np.zeros(lm_max,np.int16)\n",
    "  k=0\n",
    "  for m in range(mmin,mmax+1,minc):\n",
    "    for l in range(m,lmax+1):\n",
    "      idx[l,m]=k\n",
    "      lm2l[k]=l\n",
    "      lm2m[k]=m\n",
    "      k+=1\n",
    "  print(k)\n",
    "  return idx,lm2l,lm2m"
   ]
  },
  {
   "cell_type": "code",
   "execution_count": 4,
   "id": "7d674b1a-746b-46b5-b414-5e1f9ff842cd",
   "metadata": {},
   "outputs": [],
   "source": [
    "def gauleg_python(n_theta_max,eps=3e-14):\n",
    "    #get nodes (x=cos(theta)) and weights\n",
    "    x,w=np.polynomial.legendre.leggauss(n_theta_max)\n",
    "    theta_ord=np.arccos(x)\n",
    "    gauss=w\n",
    "    return theta_ord,gauss\n",
    "\n",
    "\n",
    "def init(l_max_in,minc_in,n_theta_max_in,m_max_in):\n",
    "    dpi=4.0*np.arctan(1.0)\n",
    "    l_max=l_max_in\n",
    "    minc=minc_in\n",
    "    n_theta_max=n_theta_max_in\n",
    "    m_max=m_max_in\n",
    "    n_phi_max=n_theta_max*2//minc\n",
    "    n_m_max=m_max//minc+1\n",
    "    #count the number of lm_max(number of (l,m) pairs)\n",
    "    lm_pairs=[(l,m) for m in range(0,m_max+1,minc) for l in range(m,l_max+1)]\n",
    "    lm_max=len(lm_pairs)\n",
    "    #print(\"lm max from init:\",lm_max\"\n",
    "    theta_ord,gauss=gauleg_python(n_theta_max,3e-14)\n",
    "\n",
    "    n_half=n_theta_max//2\n",
    "    Plm=np.zeros((lm_max,n_half))\n",
    "    wPlm=np.zeros((lm_max,n_half))\n",
    "    dPlm=np.zeros((lm_max,n_half))\n",
    "    wdPlm=np.zeros((lm_max,n_half))\n",
    "    dPhi=np.zeros((lm_max,n_half))\n",
    "    sinTh=np.sin(theta_ord)\n",
    "\n",
    "    for n_theta in range(n_half):\n",
    "        colat=theta_ord[n_theta]\n",
    "        cos_colat=np.cos(colat)\n",
    "        sin_colat=np.sin(colat)\n",
    "\n",
    "        lm=0\n",
    "        for m in range(0,m_max+1,minc):\n",
    "            for l in range(m,l_max+1):\n",
    "                lm+=1\n",
    "\n",
    "                plm_val=lpmv(m,l,cos_colat)\n",
    "\n",
    "                if l==m:\n",
    "                    dplm_val=0.0\n",
    "                else:\n",
    "                    if l>m:\n",
    "                        plm_prev=lpmv(m,l-1,cos_colat)\n",
    "                        dplm_dx=(l*cos_colat*plm_val-(l+m)*plm_prev)/(cos_colat**2-1.0)\n",
    "                        dplm_val=-sin_colat*dplm_dx\n",
    "                    else:\n",
    "                        dplm_val=0.0\n",
    "                sign=(-1.0)**m\n",
    "                plm_val*=sign\n",
    "                dplm_val*=sign\n",
    "\n",
    "                Plm[lm-1,n_theta]=plm_val\n",
    "                dPlm[lm-1,n_theta]=dplm_val/sin_colat if sin_colat !=0 else 0.0\n",
    "                dPhi[lm-1,n_theta]=m/sin_colat if sin_colat !=0 else 0.0\n",
    "\n",
    "                wPlm[lm-1,n_theta]=2.0*dpi*gauss[n_theta]*Plm[lm-1,n_theta]\n",
    "                wdPlm[lm-1,n_theta]=2.0*dpi*gauss[n_theta]*dPlm[lm-1,n_theta]\n",
    "                \n",
    "\n",
    "                \n",
    "    return {\"theta_ord\":theta_ord,\"gauss\":gauss,\"Plm\":Plm,\"wPlm\":wPlm,\"dPlm\":dPlm,\"wdPlm\":wdPlm,\"dPhi\":dPhi,\"sinTh\":sinTh,\"l_max\":l_max,\"m_max\":m_max,\"lm_max\":lm_max,\"n_phi_max\":n_phi_max,\"n_m_max\":n_m_max}\n",
    "    "
   ]
  },
  {
   "cell_type": "code",
   "execution_count": 5,
   "id": "868e2fff-6b4a-459a-bebb-cebad6f30da5",
   "metadata": {},
   "outputs": [],
   "source": [
    "version,params,rad_sph_params,omega,rad,rho_list,potentials=read_stream('V_lmr_1000.test_BIS')"
   ]
  },
  {
   "cell_type": "code",
   "execution_count": 6,
   "id": "d59b9877-f928-4db5-b5b8-df93059c446c",
   "metadata": {},
   "outputs": [
    {
     "name": "stdout",
     "output_type": "stream",
     "text": [
      "2401\n",
      "lm max from the potential file: 2401\n"
     ]
    }
   ],
   "source": [
    "n_r_max,n_r_ic_max,l_max,minc,lm_max,m_max,m_min=rad_sph_params[0],rad_sph_params[1],rad_sph_params[2],rad_sph_params[3],rad_sph_params[4],rad_sph_params[5],rad_sph_params[6]\n",
    "#print(n_r_max,n_r_ic_max,l_max,minc,lm_max,m_max,m_min)\n",
    "idx,lm2l,lm2m=get_map(lm_max,l_max,m_min,m_max,minc)\n",
    "print(\"lm max from the potential file:\",lm_max)"
   ]
  },
  {
   "cell_type": "code",
   "execution_count": 7,
   "id": "a0f035e1-cbea-4c2a-b44f-bee6183a7cf4",
   "metadata": {},
   "outputs": [
    {
     "name": "stdout",
     "output_type": "stream",
     "text": [
      "theta python: [2.98646955 2.78552082 2.58338644 2.3809857  2.17848587 1.97594059\n",
      " 1.77337312 1.57079633 1.36821954 1.16565207 0.96310678 0.76060696\n",
      " 0.55820621 0.35607183 0.15512311]\n",
      "weights python: [0.03075324 0.07036605 0.10715922 0.13957068 0.16626921 0.186161\n",
      " 0.19843149 0.20257824 0.19843149 0.186161   0.16626921 0.13957068\n",
      " 0.10715922 0.07036605 0.03075324]\n"
     ]
    }
   ],
   "source": [
    "#ret_val_1=init(l_max,minc,3,m_max)\n",
    "theta_p,weights_p=gauleg_python(15)\n",
    "print(\"theta python:\",theta_p)\n",
    "print(\"weights python:\",weights_p)"
   ]
  },
  {
   "cell_type": "code",
   "execution_count": 8,
   "id": "26d9caa5-abc1-4299-91c4-7a6d5e275a84",
   "metadata": {},
   "outputs": [
    {
     "name": "stderr",
     "output_type": "stream",
     "text": [
      "/tmp/ipykernel_15945/3492936252.py:48: RuntimeWarning: invalid value encountered in scalar subtract\n",
      "  dplm_dx=(l*cos_colat*plm_val-(l+m)*plm_prev)/(cos_colat**2-1.0)\n"
     ]
    }
   ],
   "source": [
    "return_list=init(l_max,minc,15,m_max)"
   ]
  }
 ],
 "metadata": {
  "kernelspec": {
   "display_name": "Python 3 (ipykernel)",
   "language": "python",
   "name": "python3"
  },
  "language_info": {
   "codemirror_mode": {
    "name": "ipython",
    "version": 3
   },
   "file_extension": ".py",
   "mimetype": "text/x-python",
   "name": "python",
   "nbconvert_exporter": "python",
   "pygments_lexer": "ipython3",
   "version": "3.10.12"
  }
 },
 "nbformat": 4,
 "nbformat_minor": 5
}
